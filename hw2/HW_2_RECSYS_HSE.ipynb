{
 "cells": [
  {
   "cell_type": "code",
   "execution_count": 1,
   "id": "7a20d486",
   "metadata": {
    "id": "7a20d486"
   },
   "outputs": [],
   "source": [
    "%load_ext autoreload\n",
    "%autoreload 2\n"
   ]
  },
  {
   "cell_type": "code",
   "execution_count": 2,
   "id": "PS9CGr43Koih",
   "metadata": {
    "colab": {
     "base_uri": "https://localhost:8080/"
    },
    "id": "PS9CGr43Koih",
    "outputId": "9fafa00c-c18a-4b5e-de02-6869ce5f58d9"
   },
   "outputs": [
    {
     "name": "stdout",
     "output_type": "stream",
     "text": [
      "Collecting catboost==1.0.3\n",
      "  Downloading catboost-1.0.3-cp37-none-manylinux1_x86_64.whl (76.3 MB)\n",
      "\u001b[K     |████████████████████████████████| 76.3 MB 1.3 MB/s \n",
      "\u001b[?25hRequirement already satisfied: graphviz in /usr/local/lib/python3.7/dist-packages (from catboost==1.0.3) (0.10.1)\n",
      "Requirement already satisfied: pandas>=0.24.0 in /usr/local/lib/python3.7/dist-packages (from catboost==1.0.3) (1.1.5)\n",
      "Requirement already satisfied: scipy in /usr/local/lib/python3.7/dist-packages (from catboost==1.0.3) (1.4.1)\n",
      "Requirement already satisfied: matplotlib in /usr/local/lib/python3.7/dist-packages (from catboost==1.0.3) (3.2.2)\n",
      "Requirement already satisfied: numpy>=1.16.0 in /usr/local/lib/python3.7/dist-packages (from catboost==1.0.3) (1.19.5)\n",
      "Requirement already satisfied: plotly in /usr/local/lib/python3.7/dist-packages (from catboost==1.0.3) (4.4.1)\n",
      "Requirement already satisfied: six in /usr/local/lib/python3.7/dist-packages (from catboost==1.0.3) (1.15.0)\n",
      "Requirement already satisfied: python-dateutil>=2.7.3 in /usr/local/lib/python3.7/dist-packages (from pandas>=0.24.0->catboost==1.0.3) (2.8.2)\n",
      "Requirement already satisfied: pytz>=2017.2 in /usr/local/lib/python3.7/dist-packages (from pandas>=0.24.0->catboost==1.0.3) (2018.9)\n",
      "Requirement already satisfied: pyparsing!=2.0.4,!=2.1.2,!=2.1.6,>=2.0.1 in /usr/local/lib/python3.7/dist-packages (from matplotlib->catboost==1.0.3) (3.0.6)\n",
      "Requirement already satisfied: cycler>=0.10 in /usr/local/lib/python3.7/dist-packages (from matplotlib->catboost==1.0.3) (0.11.0)\n",
      "Requirement already satisfied: kiwisolver>=1.0.1 in /usr/local/lib/python3.7/dist-packages (from matplotlib->catboost==1.0.3) (1.3.2)\n",
      "Requirement already satisfied: retrying>=1.3.3 in /usr/local/lib/python3.7/dist-packages (from plotly->catboost==1.0.3) (1.3.3)\n",
      "Installing collected packages: catboost\n",
      "Successfully installed catboost-1.0.3\n",
      "Archive:  utils.zip\n",
      "   creating: utils/\n",
      "  inflating: utils/data.py           \n",
      "   creating: utils/__pycache__/\n",
      "  inflating: utils/__pycache__/features.cpython-39.pyc  \n",
      "  inflating: utils/__pycache__/data.cpython-39.pyc  \n",
      "  inflating: utils/features.py       \n",
      "--2021-11-27 16:50:33--  https://voudy-data.s3.eu-north-1.amazonaws.com/wsdm_data.tar.gz\n",
      "Resolving voudy-data.s3.eu-north-1.amazonaws.com (voudy-data.s3.eu-north-1.amazonaws.com)... 52.95.171.48\n",
      "Connecting to voudy-data.s3.eu-north-1.amazonaws.com (voudy-data.s3.eu-north-1.amazonaws.com)|52.95.171.48|:443... connected.\n",
      "HTTP request sent, awaiting response... 200 OK\n",
      "Length: 613394184 (585M) [application/x-gzip]\n",
      "Saving to: ‘data/wsdm_data.tar.gz’\n",
      "\n",
      "wsdm_data.tar.gz    100%[===================>] 584.98M  10.8MB/s    in 57s     \n",
      "\n",
      "2021-11-27 16:51:30 (10.3 MB/s) - ‘data/wsdm_data.tar.gz’ saved [613394184/613394184]\n",
      "\n"
     ]
    }
   ],
   "source": [
    "#colab stuff\n",
    "!pip install catboost==1.0.3\n",
    "\n",
    "!unzip utils.zip\n",
    "\n",
    "!mkdir data\n",
    "!wget https://voudy-data.s3.eu-north-1.amazonaws.com/wsdm_data.tar.gz -P data\n",
    "!tar xf data/wsdm_data.tar.gz -C data"
   ]
  },
  {
   "cell_type": "code",
   "execution_count": 16,
   "id": "7ef5ef33",
   "metadata": {
    "id": "7ef5ef33"
   },
   "outputs": [],
   "source": [
    "import os\n",
    "import numpy as np\n",
    "import pandas as pd\n",
    "\n",
    "from utils.data import load_data\n",
    "\n",
    "from sklearn.model_selection import GroupKFold\n",
    "from catboost import CatBoostRanker, Pool, MetricVisualizer"
   ]
  },
  {
   "cell_type": "code",
   "execution_count": 4,
   "id": "4a79c172",
   "metadata": {
    "id": "4a79c172"
   },
   "outputs": [],
   "source": [
    "SEED = 12\n",
    "DATA_PATH = \"data\""
   ]
  },
  {
   "cell_type": "markdown",
   "id": "a09730eb",
   "metadata": {
    "id": "a09730eb"
   },
   "source": [
    "# Data loading & parsing"
   ]
  },
  {
   "cell_type": "code",
   "execution_count": 5,
   "id": "f38389d0",
   "metadata": {
    "id": "f38389d0"
   },
   "outputs": [],
   "source": [
    "train = load_data(DATA_PATH, load_test=False) "
   ]
  },
  {
   "cell_type": "code",
   "execution_count": 6,
   "id": "921ebbf3",
   "metadata": {
    "colab": {
     "base_uri": "https://localhost:8080/"
    },
    "id": "921ebbf3",
    "outputId": "0e94a56c-bad1-42d9-853f-e65393aa9411",
    "scrolled": false
   },
   "outputs": [
    {
     "name": "stdout",
     "output_type": "stream",
     "text": [
      "<class 'pandas.core.frame.DataFrame'>\n",
      "Int64Index: 7375811 entries, 0 to 7377417\n",
      "Data columns (total 27 columns):\n",
      " #   Column                   Dtype   \n",
      "---  ------                   -----   \n",
      " 0   msno                     category\n",
      " 1   song_id                  category\n",
      " 2   source_system_tab        category\n",
      " 3   source_screen_name       category\n",
      " 4   source_type              category\n",
      " 5   target                   int64   \n",
      " 6   city                     category\n",
      " 7   bd                       category\n",
      " 8   gender                   category\n",
      " 9   registered_via           int64   \n",
      " 10  registration_init_year   category\n",
      " 11  registration_init_month  category\n",
      " 12  registration_init_day    category\n",
      " 13  expiration_year          category\n",
      " 14  expiration_month         category\n",
      " 15  expiration_day           category\n",
      " 16  song_length              float64 \n",
      " 17  genre_ids                category\n",
      " 18  artist_name              category\n",
      " 19  composer                 category\n",
      " 20  lyricist                 category\n",
      " 21  language                 category\n",
      " 22  name                     category\n",
      " 23  artist_num               float64 \n",
      " 24  composer_num             float64 \n",
      " 25  lyricist_num             float64 \n",
      " 26  genre_ids_num            float64 \n",
      "dtypes: category(20), float64(5), int64(2)\n",
      "memory usage: 803.7 MB\n"
     ]
    }
   ],
   "source": [
    "train.info()"
   ]
  },
  {
   "cell_type": "markdown",
   "id": "818dc083",
   "metadata": {
    "id": "818dc083"
   },
   "source": [
    "# 1. Ranking with GBDT "
   ]
  },
  {
   "cell_type": "code",
   "execution_count": 7,
   "id": "4f809eb2",
   "metadata": {
    "id": "4f809eb2"
   },
   "outputs": [],
   "source": [
    "train_group = train.groupby(\"msno\").head(1020).reset_index(drop=True)\n",
    "train_group.sort_values(\"msno\", kind=\"stable\", inplace=True)\n",
    "\n",
    "categorical_features = train_group.select_dtypes([\"category\"]).columns.to_numpy()"
   ]
  },
  {
   "cell_type": "code",
   "execution_count": 8,
   "id": "3c4f2666",
   "metadata": {
    "id": "3c4f2666"
   },
   "outputs": [],
   "source": [
    "X = train_group.drop(\"target\", axis=1)\n",
    "y = train_group.target.to_numpy()\n",
    "q = train_group.msno.cat.codes.to_numpy()"
   ]
  },
  {
   "cell_type": "code",
   "execution_count": 9,
   "id": "d8c37e6e",
   "metadata": {
    "id": "d8c37e6e"
   },
   "outputs": [],
   "source": [
    "catboost_config = {\n",
    "    \"loss_function\": \"YetiRank\", \n",
    "    \"iterations\": 150, \n",
    "    \"custom_metric\": [\"NDCG\", \"QueryAUC:type=Ranking\"], \n",
    "    \"random_seed\": SEED, \n",
    "    \"metric_period\": 25,\n",
    "    \"task_type\": \"GPU\",\n",
    "    \"train_dir\": \"YetiRank/\" \n",
    "}"
   ]
  },
  {
   "cell_type": "code",
   "execution_count": 10,
   "id": "368fa0a2",
   "metadata": {
    "colab": {
     "base_uri": "https://localhost:8080/"
    },
    "id": "368fa0a2",
    "outputId": "b408c160-dab4-47f7-e386-74beab0bb7f1"
   },
   "outputs": [
    {
     "name": "stdout",
     "output_type": "stream",
     "text": [
      "START NEW FOLD\n",
      "Groupwise loss function. OneHotMaxSize set to 10\n"
     ]
    },
    {
     "name": "stderr",
     "output_type": "stream",
     "text": [
      "Metric PFound is not implemented on GPU. Will use CPU for metric computation, this could significantly affect learning time\n",
      "Metric PFound is not implemented on GPU. Will use CPU for metric computation, this could significantly affect learning time\n",
      "Metric NDCG:type=Base is not implemented on GPU. Will use CPU for metric computation, this could significantly affect learning time\n",
      "Metric QueryAUC:type=Ranking is not implemented on GPU. Will use CPU for metric computation, this could significantly affect learning time\n"
     ]
    },
    {
     "name": "stdout",
     "output_type": "stream",
     "text": [
      "0:\ttest: 0.5166299\tbest: 0.5166299 (0)\ttotal: 2s\tremaining: 4m 57s\n",
      "25:\ttest: 0.6613817\tbest: 0.6613817 (25)\ttotal: 32.7s\tremaining: 2m 36s\n",
      "50:\ttest: 0.7267847\tbest: 0.7267847 (50)\ttotal: 1m 3s\tremaining: 2m 3s\n",
      "75:\ttest: 0.7438933\tbest: 0.7438933 (75)\ttotal: 1m 34s\tremaining: 1m 31s\n",
      "100:\ttest: 0.7542267\tbest: 0.7542267 (100)\ttotal: 2m 5s\tremaining: 1m\n",
      "125:\ttest: 0.7657907\tbest: 0.7657907 (125)\ttotal: 2m 36s\tremaining: 29.8s\n",
      "149:\ttest: 0.7714486\tbest: 0.7714486 (149)\ttotal: 3m 5s\tremaining: 0us\n",
      "bestTest = 0.7714485659\n",
      "bestIteration = 149\n",
      "START NEW FOLD\n",
      "Groupwise loss function. OneHotMaxSize set to 10\n"
     ]
    },
    {
     "name": "stderr",
     "output_type": "stream",
     "text": [
      "Metric PFound is not implemented on GPU. Will use CPU for metric computation, this could significantly affect learning time\n",
      "Metric PFound is not implemented on GPU. Will use CPU for metric computation, this could significantly affect learning time\n",
      "Metric NDCG:type=Base is not implemented on GPU. Will use CPU for metric computation, this could significantly affect learning time\n",
      "Metric QueryAUC:type=Ranking is not implemented on GPU. Will use CPU for metric computation, this could significantly affect learning time\n"
     ]
    },
    {
     "name": "stdout",
     "output_type": "stream",
     "text": [
      "0:\ttest: 0.5198204\tbest: 0.5198204 (0)\ttotal: 1.95s\tremaining: 4m 50s\n",
      "25:\ttest: 0.7151759\tbest: 0.7151759 (25)\ttotal: 32.6s\tremaining: 2m 35s\n",
      "50:\ttest: 0.7447243\tbest: 0.7447243 (50)\ttotal: 1m 3s\tremaining: 2m 2s\n",
      "75:\ttest: 0.7608478\tbest: 0.7608478 (75)\ttotal: 1m 34s\tremaining: 1m 31s\n",
      "100:\ttest: 0.7656088\tbest: 0.7656088 (100)\ttotal: 2m 5s\tremaining: 1m\n",
      "125:\ttest: 0.7753449\tbest: 0.7753449 (125)\ttotal: 2m 35s\tremaining: 29.7s\n",
      "149:\ttest: 0.7805177\tbest: 0.7805177 (149)\ttotal: 3m 5s\tremaining: 0us\n",
      "bestTest = 0.7805176675\n",
      "bestIteration = 149\n",
      "START NEW FOLD\n",
      "Groupwise loss function. OneHotMaxSize set to 10\n"
     ]
    },
    {
     "name": "stderr",
     "output_type": "stream",
     "text": [
      "Metric PFound is not implemented on GPU. Will use CPU for metric computation, this could significantly affect learning time\n",
      "Metric PFound is not implemented on GPU. Will use CPU for metric computation, this could significantly affect learning time\n",
      "Metric NDCG:type=Base is not implemented on GPU. Will use CPU for metric computation, this could significantly affect learning time\n",
      "Metric QueryAUC:type=Ranking is not implemented on GPU. Will use CPU for metric computation, this could significantly affect learning time\n"
     ]
    },
    {
     "name": "stdout",
     "output_type": "stream",
     "text": [
      "0:\ttest: 0.5271346\tbest: 0.5271346 (0)\ttotal: 1.95s\tremaining: 4m 51s\n",
      "25:\ttest: 0.7341614\tbest: 0.7341614 (25)\ttotal: 32.7s\tremaining: 2m 35s\n",
      "50:\ttest: 0.7376132\tbest: 0.7376132 (50)\ttotal: 1m 3s\tremaining: 2m 3s\n",
      "75:\ttest: 0.7517649\tbest: 0.7517649 (75)\ttotal: 1m 34s\tremaining: 1m 31s\n",
      "100:\ttest: 0.7609668\tbest: 0.7609668 (100)\ttotal: 2m 5s\tremaining: 1m\n",
      "125:\ttest: 0.7710886\tbest: 0.7710886 (125)\ttotal: 2m 36s\tremaining: 29.7s\n",
      "149:\ttest: 0.7735784\tbest: 0.7735784 (149)\ttotal: 3m 5s\tremaining: 0us\n",
      "bestTest = 0.7735784226\n",
      "bestIteration = 149\n",
      "START NEW FOLD\n",
      "Groupwise loss function. OneHotMaxSize set to 10\n"
     ]
    },
    {
     "name": "stderr",
     "output_type": "stream",
     "text": [
      "Metric PFound is not implemented on GPU. Will use CPU for metric computation, this could significantly affect learning time\n",
      "Metric PFound is not implemented on GPU. Will use CPU for metric computation, this could significantly affect learning time\n",
      "Metric NDCG:type=Base is not implemented on GPU. Will use CPU for metric computation, this could significantly affect learning time\n",
      "Metric QueryAUC:type=Ranking is not implemented on GPU. Will use CPU for metric computation, this could significantly affect learning time\n"
     ]
    },
    {
     "name": "stdout",
     "output_type": "stream",
     "text": [
      "0:\ttest: 0.5253162\tbest: 0.5253162 (0)\ttotal: 1.96s\tremaining: 4m 51s\n",
      "25:\ttest: 0.7263690\tbest: 0.7263690 (25)\ttotal: 32.7s\tremaining: 2m 36s\n",
      "50:\ttest: 0.7281983\tbest: 0.7281983 (50)\ttotal: 1m 3s\tremaining: 2m 3s\n",
      "75:\ttest: 0.7587149\tbest: 0.7587149 (75)\ttotal: 1m 34s\tremaining: 1m 31s\n",
      "100:\ttest: 0.7624963\tbest: 0.7624963 (100)\ttotal: 2m 5s\tremaining: 1m\n",
      "125:\ttest: 0.7634150\tbest: 0.7634150 (125)\ttotal: 2m 36s\tremaining: 29.7s\n",
      "149:\ttest: 0.7801247\tbest: 0.7801247 (149)\ttotal: 3m 6s\tremaining: 0us\n",
      "bestTest = 0.7801246804\n",
      "bestIteration = 149\n",
      "START NEW FOLD\n",
      "Groupwise loss function. OneHotMaxSize set to 10\n"
     ]
    },
    {
     "name": "stderr",
     "output_type": "stream",
     "text": [
      "Metric PFound is not implemented on GPU. Will use CPU for metric computation, this could significantly affect learning time\n",
      "Metric PFound is not implemented on GPU. Will use CPU for metric computation, this could significantly affect learning time\n",
      "Metric NDCG:type=Base is not implemented on GPU. Will use CPU for metric computation, this could significantly affect learning time\n",
      "Metric QueryAUC:type=Ranking is not implemented on GPU. Will use CPU for metric computation, this could significantly affect learning time\n"
     ]
    },
    {
     "name": "stdout",
     "output_type": "stream",
     "text": [
      "0:\ttest: 0.5080697\tbest: 0.5080697 (0)\ttotal: 1.94s\tremaining: 4m 48s\n",
      "25:\ttest: 0.6644869\tbest: 0.6644869 (25)\ttotal: 32.6s\tremaining: 2m 35s\n",
      "50:\ttest: 0.7341989\tbest: 0.7341989 (50)\ttotal: 1m 3s\tremaining: 2m 3s\n",
      "75:\ttest: 0.7596035\tbest: 0.7596035 (75)\ttotal: 1m 34s\tremaining: 1m 31s\n",
      "100:\ttest: 0.7699140\tbest: 0.7699140 (100)\ttotal: 2m 5s\tremaining: 1m\n",
      "125:\ttest: 0.7756594\tbest: 0.7756594 (125)\ttotal: 2m 36s\tremaining: 29.8s\n",
      "149:\ttest: 0.7781343\tbest: 0.7781343 (149)\ttotal: 3m 5s\tremaining: 0us\n",
      "bestTest = 0.7781343399\n",
      "bestIteration = 149\n"
     ]
    }
   ],
   "source": [
    "scores = []\n",
    "\n",
    "for train_idx, val_idx in GroupKFold(n_splits=5).split(X, y, q):\n",
    "    print(\"START NEW FOLD\")\n",
    "    X_train, y_train = X.iloc[train_idx], y[train_idx]\n",
    "    X_val, y_val = X.iloc[val_idx], y[val_idx]\n",
    "    q_train, q_val = q[train_idx], q[val_idx]\n",
    "\n",
    "    pool_train = Pool(\n",
    "        data=X_train, label=y_train, group_id=q_train, \n",
    "        cat_features=categorical_features, has_header=True)\n",
    "    \n",
    "    pool_val = Pool(\n",
    "        data=X_val, label=y_val, group_id=q_val, \n",
    "        cat_features=categorical_features, has_header=True)\n",
    "    \n",
    "    model = CatBoostRanker(**catboost_config)\n",
    "    model.fit(pool_train, eval_set=pool_val)\n",
    "    \n",
    "    scores.append(model.get_evals_result())"
   ]
  },
  {
   "cell_type": "markdown",
   "id": "f15WFpJBZcUv",
   "metadata": {
    "id": "f15WFpJBZcUv"
   },
   "source": [
    "## Validation scores"
   ]
  },
  {
   "cell_type": "code",
   "execution_count": 14,
   "id": "8m5gsu3hZpOa",
   "metadata": {
    "id": "8m5gsu3hZpOa"
   },
   "outputs": [],
   "source": [
    "import matplotlib.pyplot as plt"
   ]
  },
  {
   "cell_type": "code",
   "execution_count": 30,
   "id": "LHG0J9FjN_pM",
   "metadata": {
    "colab": {
     "base_uri": "https://localhost:8080/",
     "height": 606
    },
    "id": "LHG0J9FjN_pM",
    "outputId": "37a96d86-d00e-4772-8eaf-7486873ee83c"
   },
   "outputs": [
    {
     "data": {
      "image/png": "[encoded data removed]",
      "text/plain": [
       "<Figure size 1440x720 with 2 Axes>"
      ]
     },
     "metadata": {
      "needs_background": "light"
     },
     "output_type": "display_data"
    }
   ],
   "source": [
    "f, (ax1, ax2) = plt.subplots(1, 2, sharex=True, figsize=(20, 10))\n",
    "\n",
    "query_auc = np.vstack([x[\"validation\"][\"QueryAUC:type=Ranking\"] for x in scores])\n",
    "auc_mean, auc_std = query_auc.mean(axis=0), query_auc.std(axis=0)\n",
    "\n",
    "ndcg = np.vstack([x[\"validation\"][\"NDCG:type=Base\"] for x in scores])\n",
    "ndcg_mean, ndcg_std = ndcg.mean(axis=0), ndcg.std(axis=0)\n",
    "\n",
    "x = np.arange(catboost_config[\"iterations\"] // catboost_config[\"metric_period\"] + 1) * catboost_config[\"metric_period\"]\n",
    "\n",
    "ax1.plot(x, auc_mean)\n",
    "ax1.fill_between(x, auc_mean - auc_std, auc_mean + auc_std, alpha=0.7)\n",
    "ax1.set_ylabel(\"QueryAUC\")\n",
    "ax1.set_xlabel(\"Iteration\")\n",
    "\n",
    "ax2.plot(x, ndcg_mean)\n",
    "ax2.fill_between(x, ndcg_mean - ndcg_std, ndcg_mean + ndcg_std, alpha=0.7)\n",
    "ax2.set_ylabel(\"NDCG\")\n",
    "ax2.set_xlabel(\"Iteration\");"
   ]
  },
  {
   "cell_type": "markdown",
   "id": "0adfc63b",
   "metadata": {
    "id": "a_IUujqzcCcZ"
   },
   "source": [
    "Есть ощущение, что я сильно недоучил, но catboost даже на gpu обучается недостаточно быстро, чтобы делать перебор параметров или большее количество итераций, иначе colab упадет раньше (или забанит, а он еще для следующей домашки нужен) :\\"
   ]
  },
  {
   "cell_type": "markdown",
   "id": "4b592a07",
   "metadata": {},
   "source": [
    "# 2. Embeddings"
   ]
  },
  {
   "cell_type": "markdown",
   "id": "95c714ff",
   "metadata": {},
   "source": [
    "TODO"
   ]
  }
 ],
 "metadata": {
  "accelerator": "GPU",
  "colab": {
   "collapsed_sections": [],
   "name": "HW_2_RECSYS_HSE.ipynb",
   "provenance": []
  },
  "kernelspec": {
   "display_name": "Python 3 (ipykernel)",
   "language": "python",
   "name": "python3"
  },
  "language_info": {
   "codemirror_mode": {
    "name": "ipython",
    "version": 3
   },
   "file_extension": ".py",
   "mimetype": "text/x-python",
   "name": "python",
   "nbconvert_exporter": "python",
   "pygments_lexer": "ipython3",
   "version": "3.9.7"
  }
 },
 "nbformat": 4,
 "nbformat_minor": 5
}
